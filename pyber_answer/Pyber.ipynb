{
 "cells": [
  {
   "cell_type": "markdown",
   "metadata": {},
   "source": [
    "# This is PYBER"
   ]
  },
  {
   "cell_type": "code",
   "execution_count": 6,
   "metadata": {},
   "outputs": [],
   "source": [
    "# Dependencies\n",
    "import pandas as pd\n",
    "import numpy as np\n",
    "import matplotlib.pyplot as plt"
   ]
  },
  {
   "cell_type": "code",
   "execution_count": 7,
   "metadata": {},
   "outputs": [
    {
     "data": {
      "text/html": [
       "<div>\n",
       "<style scoped>\n",
       "    .dataframe tbody tr th:only-of-type {\n",
       "        vertical-align: middle;\n",
       "    }\n",
       "\n",
       "    .dataframe tbody tr th {\n",
       "        vertical-align: top;\n",
       "    }\n",
       "\n",
       "    .dataframe thead th {\n",
       "        text-align: right;\n",
       "    }\n",
       "</style>\n",
       "<table border=\"1\" class=\"dataframe\">\n",
       "  <thead>\n",
       "    <tr style=\"text-align: right;\">\n",
       "      <th></th>\n",
       "      <th>city</th>\n",
       "      <th>driver_count</th>\n",
       "      <th>type</th>\n",
       "    </tr>\n",
       "  </thead>\n",
       "  <tbody>\n",
       "    <tr>\n",
       "      <th>0</th>\n",
       "      <td>Kelseyland</td>\n",
       "      <td>63</td>\n",
       "      <td>Urban</td>\n",
       "    </tr>\n",
       "    <tr>\n",
       "      <th>1</th>\n",
       "      <td>Nguyenbury</td>\n",
       "      <td>8</td>\n",
       "      <td>Urban</td>\n",
       "    </tr>\n",
       "    <tr>\n",
       "      <th>2</th>\n",
       "      <td>East Douglas</td>\n",
       "      <td>12</td>\n",
       "      <td>Urban</td>\n",
       "    </tr>\n",
       "    <tr>\n",
       "      <th>3</th>\n",
       "      <td>West Dawnfurt</td>\n",
       "      <td>34</td>\n",
       "      <td>Urban</td>\n",
       "    </tr>\n",
       "    <tr>\n",
       "      <th>4</th>\n",
       "      <td>Rodriguezburgh</td>\n",
       "      <td>52</td>\n",
       "      <td>Urban</td>\n",
       "    </tr>\n",
       "  </tbody>\n",
       "</table>\n",
       "</div>"
      ],
      "text/plain": [
       "             city  driver_count   type\n",
       "0      Kelseyland            63  Urban\n",
       "1      Nguyenbury             8  Urban\n",
       "2    East Douglas            12  Urban\n",
       "3   West Dawnfurt            34  Urban\n",
       "4  Rodriguezburgh            52  Urban"
      ]
     },
     "execution_count": 7,
     "metadata": {},
     "output_type": "execute_result"
    }
   ],
   "source": [
    "# save file path to variable\n",
    "city_data = \"../raw_data/city_data.csv\"\n",
    "\n",
    "# read with pandas\n",
    "city_data = pd.read_csv(city_data)\n",
    "city_data.head()"
   ]
  },
  {
   "cell_type": "code",
   "execution_count": 8,
   "metadata": {},
   "outputs": [
    {
     "data": {
      "text/html": [
       "<div>\n",
       "<style scoped>\n",
       "    .dataframe tbody tr th:only-of-type {\n",
       "        vertical-align: middle;\n",
       "    }\n",
       "\n",
       "    .dataframe tbody tr th {\n",
       "        vertical-align: top;\n",
       "    }\n",
       "\n",
       "    .dataframe thead th {\n",
       "        text-align: right;\n",
       "    }\n",
       "</style>\n",
       "<table border=\"1\" class=\"dataframe\">\n",
       "  <thead>\n",
       "    <tr style=\"text-align: right;\">\n",
       "      <th></th>\n",
       "      <th>city</th>\n",
       "      <th>date</th>\n",
       "      <th>fare</th>\n",
       "      <th>ride_id</th>\n",
       "    </tr>\n",
       "  </thead>\n",
       "  <tbody>\n",
       "    <tr>\n",
       "      <th>0</th>\n",
       "      <td>Sarabury</td>\n",
       "      <td>2016-01-16 13:49:27</td>\n",
       "      <td>38.35</td>\n",
       "      <td>5403689035038</td>\n",
       "    </tr>\n",
       "    <tr>\n",
       "      <th>1</th>\n",
       "      <td>South Roy</td>\n",
       "      <td>2016-01-02 18:42:34</td>\n",
       "      <td>17.49</td>\n",
       "      <td>4036272335942</td>\n",
       "    </tr>\n",
       "    <tr>\n",
       "      <th>2</th>\n",
       "      <td>Wiseborough</td>\n",
       "      <td>2016-01-21 17:35:29</td>\n",
       "      <td>44.18</td>\n",
       "      <td>3645042422587</td>\n",
       "    </tr>\n",
       "    <tr>\n",
       "      <th>3</th>\n",
       "      <td>Spencertown</td>\n",
       "      <td>2016-07-31 14:53:22</td>\n",
       "      <td>6.87</td>\n",
       "      <td>2242596575892</td>\n",
       "    </tr>\n",
       "    <tr>\n",
       "      <th>4</th>\n",
       "      <td>Nguyenbury</td>\n",
       "      <td>2016-07-09 04:42:44</td>\n",
       "      <td>6.28</td>\n",
       "      <td>1543057793673</td>\n",
       "    </tr>\n",
       "  </tbody>\n",
       "</table>\n",
       "</div>"
      ],
      "text/plain": [
       "          city                 date   fare        ride_id\n",
       "0     Sarabury  2016-01-16 13:49:27  38.35  5403689035038\n",
       "1    South Roy  2016-01-02 18:42:34  17.49  4036272335942\n",
       "2  Wiseborough  2016-01-21 17:35:29  44.18  3645042422587\n",
       "3  Spencertown  2016-07-31 14:53:22   6.87  2242596575892\n",
       "4   Nguyenbury  2016-07-09 04:42:44   6.28  1543057793673"
      ]
     },
     "execution_count": 8,
     "metadata": {},
     "output_type": "execute_result"
    }
   ],
   "source": [
    "# save file path to variable\n",
    "ride_data = \"../raw_data/ride_data.csv\"\n",
    "\n",
    "# read with pandas\n",
    "ride_data = pd.read_csv(ride_data)\n",
    "ride_data.head()"
   ]
  },
  {
   "cell_type": "code",
   "execution_count": 9,
   "metadata": {},
   "outputs": [
    {
     "data": {
      "text/html": [
       "<div>\n",
       "<style scoped>\n",
       "    .dataframe tbody tr th:only-of-type {\n",
       "        vertical-align: middle;\n",
       "    }\n",
       "\n",
       "    .dataframe tbody tr th {\n",
       "        vertical-align: top;\n",
       "    }\n",
       "\n",
       "    .dataframe thead th {\n",
       "        text-align: right;\n",
       "    }\n",
       "</style>\n",
       "<table border=\"1\" class=\"dataframe\">\n",
       "  <thead>\n",
       "    <tr style=\"text-align: right;\">\n",
       "      <th></th>\n",
       "      <th>city</th>\n",
       "      <th>driver_count</th>\n",
       "      <th>type</th>\n",
       "      <th>date</th>\n",
       "      <th>fare</th>\n",
       "      <th>ride_id</th>\n",
       "    </tr>\n",
       "  </thead>\n",
       "  <tbody>\n",
       "    <tr>\n",
       "      <th>0</th>\n",
       "      <td>Kelseyland</td>\n",
       "      <td>63</td>\n",
       "      <td>Urban</td>\n",
       "      <td>2016-08-19 04:27:52</td>\n",
       "      <td>5.51</td>\n",
       "      <td>6246006544795</td>\n",
       "    </tr>\n",
       "    <tr>\n",
       "      <th>1</th>\n",
       "      <td>Kelseyland</td>\n",
       "      <td>63</td>\n",
       "      <td>Urban</td>\n",
       "      <td>2016-04-17 06:59:50</td>\n",
       "      <td>5.54</td>\n",
       "      <td>7466473222333</td>\n",
       "    </tr>\n",
       "    <tr>\n",
       "      <th>2</th>\n",
       "      <td>Kelseyland</td>\n",
       "      <td>63</td>\n",
       "      <td>Urban</td>\n",
       "      <td>2016-05-04 15:06:07</td>\n",
       "      <td>30.54</td>\n",
       "      <td>2140501382736</td>\n",
       "    </tr>\n",
       "    <tr>\n",
       "      <th>3</th>\n",
       "      <td>Kelseyland</td>\n",
       "      <td>63</td>\n",
       "      <td>Urban</td>\n",
       "      <td>2016-01-25 20:44:56</td>\n",
       "      <td>12.08</td>\n",
       "      <td>1896987891309</td>\n",
       "    </tr>\n",
       "    <tr>\n",
       "      <th>4</th>\n",
       "      <td>Kelseyland</td>\n",
       "      <td>63</td>\n",
       "      <td>Urban</td>\n",
       "      <td>2016-08-09 18:19:47</td>\n",
       "      <td>17.91</td>\n",
       "      <td>8784212854829</td>\n",
       "    </tr>\n",
       "  </tbody>\n",
       "</table>\n",
       "</div>"
      ],
      "text/plain": [
       "         city  driver_count   type                 date   fare        ride_id\n",
       "0  Kelseyland            63  Urban  2016-08-19 04:27:52   5.51  6246006544795\n",
       "1  Kelseyland            63  Urban  2016-04-17 06:59:50   5.54  7466473222333\n",
       "2  Kelseyland            63  Urban  2016-05-04 15:06:07  30.54  2140501382736\n",
       "3  Kelseyland            63  Urban  2016-01-25 20:44:56  12.08  1896987891309\n",
       "4  Kelseyland            63  Urban  2016-08-09 18:19:47  17.91  8784212854829"
      ]
     },
     "execution_count": 9,
     "metadata": {},
     "output_type": "execute_result"
    }
   ],
   "source": [
    "# merge tables\n",
    "combined_pd = pd.merge(city_data, ride_data, on ='city')\n",
    "combined_pd.head()"
   ]
  },
  {
   "cell_type": "code",
   "execution_count": 11,
   "metadata": {},
   "outputs": [
    {
     "data": {
      "text/plain": [
       "<pandas.core.groupby.DataFrameGroupBy object at 0x000001E0316BE160>"
      ]
     },
     "execution_count": 11,
     "metadata": {},
     "output_type": "execute_result"
    }
   ],
   "source": [
    "# group by city\n",
    "city_group = combined_pd.groupby(by=\"city\")\n",
    "city_group"
   ]
  },
  {
   "cell_type": "code",
   "execution_count": 19,
   "metadata": {},
   "outputs": [
    {
     "data": {
      "text/plain": [
       "city\n",
       "Alvarezhaven       Urban\n",
       "Alyssaberg         Urban\n",
       "Anitamouth      Suburban\n",
       "Antoniomouth       Urban\n",
       "Aprilchester       Urban\n",
       "Name: type, dtype: object"
      ]
     },
     "execution_count": 19,
     "metadata": {},
     "output_type": "execute_result"
    }
   ],
   "source": [
    "# determine types of cities\n",
    "city_type = city_group['type'].first()\n",
    "city_type.head()"
   ]
  },
  {
   "cell_type": "code",
   "execution_count": 20,
   "metadata": {},
   "outputs": [
    {
     "data": {
      "text/plain": [
       "city\n",
       "Alvarezhaven    23.928710\n",
       "Alyssaberg      20.609615\n",
       "Anitamouth      37.315556\n",
       "Antoniomouth    23.625000\n",
       "Aprilchester    21.981579\n",
       "Name: fare, dtype: float64"
      ]
     },
     "execution_count": 20,
     "metadata": {},
     "output_type": "execute_result"
    }
   ],
   "source": [
    "# determine avg fares\n",
    "avg_fares = city_group[\"fare\"].mean()\n",
    "avg_fares.head()"
   ]
  },
  {
   "cell_type": "code",
   "execution_count": 21,
   "metadata": {},
   "outputs": [
    {
     "data": {
      "text/plain": [
       "city\n",
       "Alvarezhaven    31\n",
       "Alyssaberg      26\n",
       "Anitamouth       9\n",
       "Antoniomouth    22\n",
       "Aprilchester    19\n",
       "Name: ride_id, dtype: int64"
      ]
     },
     "execution_count": 21,
     "metadata": {},
     "output_type": "execute_result"
    }
   ],
   "source": [
    "# total number of rides per city\n",
    "num_rides = city_group[\"ride_id\"].count()\n",
    "num_rides.head()"
   ]
  },
  {
   "cell_type": "code",
   "execution_count": 22,
   "metadata": {},
   "outputs": [
    {
     "data": {
      "text/plain": [
       "city\n",
       "Alvarezhaven    21.0\n",
       "Alyssaberg      67.0\n",
       "Anitamouth      16.0\n",
       "Antoniomouth    21.0\n",
       "Aprilchester    49.0\n",
       "Name: driver_count, dtype: float64"
      ]
     },
     "execution_count": 22,
     "metadata": {},
     "output_type": "execute_result"
    }
   ],
   "source": [
    "# number of drivers\n",
    "num_drivers = (city_group['driver_count'].sum())/(city_group['driver_count'].count())\n",
    "num_drivers.head()"
   ]
  },
  {
   "cell_type": "markdown",
   "metadata": {},
   "source": [
    "### Summary Table Grouped by City"
   ]
  },
  {
   "cell_type": "code",
   "execution_count": 23,
   "metadata": {},
   "outputs": [
    {
     "data": {
      "text/html": [
       "<div>\n",
       "<style scoped>\n",
       "    .dataframe tbody tr th:only-of-type {\n",
       "        vertical-align: middle;\n",
       "    }\n",
       "\n",
       "    .dataframe tbody tr th {\n",
       "        vertical-align: top;\n",
       "    }\n",
       "\n",
       "    .dataframe thead th {\n",
       "        text-align: right;\n",
       "    }\n",
       "</style>\n",
       "<table border=\"1\" class=\"dataframe\">\n",
       "  <thead>\n",
       "    <tr style=\"text-align: right;\">\n",
       "      <th></th>\n",
       "      <th>Average Fare</th>\n",
       "      <th>Number of Drivers</th>\n",
       "      <th>Number of Rides</th>\n",
       "      <th>Type</th>\n",
       "    </tr>\n",
       "    <tr>\n",
       "      <th>city</th>\n",
       "      <th></th>\n",
       "      <th></th>\n",
       "      <th></th>\n",
       "      <th></th>\n",
       "    </tr>\n",
       "  </thead>\n",
       "  <tbody>\n",
       "    <tr>\n",
       "      <th>Alvarezhaven</th>\n",
       "      <td>23.928710</td>\n",
       "      <td>21.0</td>\n",
       "      <td>31</td>\n",
       "      <td>Urban</td>\n",
       "    </tr>\n",
       "    <tr>\n",
       "      <th>Alyssaberg</th>\n",
       "      <td>20.609615</td>\n",
       "      <td>67.0</td>\n",
       "      <td>26</td>\n",
       "      <td>Urban</td>\n",
       "    </tr>\n",
       "    <tr>\n",
       "      <th>Anitamouth</th>\n",
       "      <td>37.315556</td>\n",
       "      <td>16.0</td>\n",
       "      <td>9</td>\n",
       "      <td>Suburban</td>\n",
       "    </tr>\n",
       "    <tr>\n",
       "      <th>Antoniomouth</th>\n",
       "      <td>23.625000</td>\n",
       "      <td>21.0</td>\n",
       "      <td>22</td>\n",
       "      <td>Urban</td>\n",
       "    </tr>\n",
       "    <tr>\n",
       "      <th>Aprilchester</th>\n",
       "      <td>21.981579</td>\n",
       "      <td>49.0</td>\n",
       "      <td>19</td>\n",
       "      <td>Urban</td>\n",
       "    </tr>\n",
       "  </tbody>\n",
       "</table>\n",
       "</div>"
      ],
      "text/plain": [
       "              Average Fare  Number of Drivers  Number of Rides      Type\n",
       "city                                                                    \n",
       "Alvarezhaven     23.928710               21.0               31     Urban\n",
       "Alyssaberg       20.609615               67.0               26     Urban\n",
       "Anitamouth       37.315556               16.0                9  Suburban\n",
       "Antoniomouth     23.625000               21.0               22     Urban\n",
       "Aprilchester     21.981579               49.0               19     Urban"
      ]
     },
     "execution_count": 23,
     "metadata": {},
     "output_type": "execute_result"
    }
   ],
   "source": [
    "# create summary table\n",
    "city_summary = pd.DataFrame({\"Type\": city_type,\n",
    "                            \"Average Fare\": avg_fares,\n",
    "                            \"Number of Rides\": num_rides,\n",
    "                            \"Number of Drivers\": num_drivers})\n",
    "city_summary.head()"
   ]
  },
  {
   "cell_type": "markdown",
   "metadata": {},
   "source": [
    "## Part One"
   ]
  },
  {
   "cell_type": "code",
   "execution_count": 92,
   "metadata": {},
   "outputs": [
    {
     "data": {
      "text/html": [
       "<div>\n",
       "<style scoped>\n",
       "    .dataframe tbody tr th:only-of-type {\n",
       "        vertical-align: middle;\n",
       "    }\n",
       "\n",
       "    .dataframe tbody tr th {\n",
       "        vertical-align: top;\n",
       "    }\n",
       "\n",
       "    .dataframe thead th {\n",
       "        text-align: right;\n",
       "    }\n",
       "</style>\n",
       "<table border=\"1\" class=\"dataframe\">\n",
       "  <thead>\n",
       "    <tr style=\"text-align: right;\">\n",
       "      <th></th>\n",
       "      <th>Type</th>\n",
       "      <th>Number of Drivers</th>\n",
       "      <th>Number of Rides</th>\n",
       "      <th>Average Fare</th>\n",
       "    </tr>\n",
       "    <tr>\n",
       "      <th>city</th>\n",
       "      <th></th>\n",
       "      <th></th>\n",
       "      <th></th>\n",
       "      <th></th>\n",
       "    </tr>\n",
       "  </thead>\n",
       "  <tbody>\n",
       "    <tr>\n",
       "      <th>Alvarezhaven</th>\n",
       "      <td>Urban</td>\n",
       "      <td>21.0</td>\n",
       "      <td>31</td>\n",
       "      <td>23.928710</td>\n",
       "    </tr>\n",
       "    <tr>\n",
       "      <th>Alyssaberg</th>\n",
       "      <td>Urban</td>\n",
       "      <td>67.0</td>\n",
       "      <td>26</td>\n",
       "      <td>20.609615</td>\n",
       "    </tr>\n",
       "    <tr>\n",
       "      <th>Anitamouth</th>\n",
       "      <td>Suburban</td>\n",
       "      <td>16.0</td>\n",
       "      <td>9</td>\n",
       "      <td>37.315556</td>\n",
       "    </tr>\n",
       "    <tr>\n",
       "      <th>Antoniomouth</th>\n",
       "      <td>Urban</td>\n",
       "      <td>21.0</td>\n",
       "      <td>22</td>\n",
       "      <td>23.625000</td>\n",
       "    </tr>\n",
       "    <tr>\n",
       "      <th>Aprilchester</th>\n",
       "      <td>Urban</td>\n",
       "      <td>49.0</td>\n",
       "      <td>19</td>\n",
       "      <td>21.981579</td>\n",
       "    </tr>\n",
       "  </tbody>\n",
       "</table>\n",
       "</div>"
      ],
      "text/plain": [
       "                  Type  Number of Drivers  Number of Rides  Average Fare\n",
       "city                                                                    \n",
       "Alvarezhaven     Urban               21.0               31     23.928710\n",
       "Alyssaberg       Urban               67.0               26     20.609615\n",
       "Anitamouth    Suburban               16.0                9     37.315556\n",
       "Antoniomouth     Urban               21.0               22     23.625000\n",
       "Aprilchester     Urban               49.0               19     21.981579"
      ]
     },
     "execution_count": 92,
     "metadata": {},
     "output_type": "execute_result"
    }
   ],
   "source": [
    "# set the order of columns\n",
    "city_summary = city_summary[['Type', 'Number of Drivers', 'Number of Rides', 'Average Fare']]\n",
    "city_summary.head()"
   ]
  },
  {
   "cell_type": "code",
   "execution_count": 110,
   "metadata": {},
   "outputs": [
    {
     "data": {
      "text/plain": [
       "64"
      ]
     },
     "execution_count": 110,
     "metadata": {},
     "output_type": "execute_result"
    }
   ],
   "source": [
    "#figure out max ranges\n",
    "num_rides.max()"
   ]
  },
  {
   "cell_type": "code",
   "execution_count": 108,
   "metadata": {},
   "outputs": [],
   "source": [
    "#urban\n",
    "urban = city_summary.loc[city_summary[\"Type\"]== \"Urban\"]\n",
    "\n",
    "#suburban\n",
    "suburban = city_summary.loc[city_summary[\"Type\"]== \"Suburban\"]\n",
    "\n",
    "#rural\n",
    "rural = city_summary.loc[city_summary[\"Type\"]== \"Rural\"]"
   ]
  },
  {
   "cell_type": "markdown",
   "metadata": {},
   "source": [
    "## Bubble Plot of Ride Sharing Data"
   ]
  },
  {
   "cell_type": "code",
   "execution_count": 155,
   "metadata": {},
   "outputs": [
    {
     "data": {
      "image/png": "[encoded data removed]",
      "text/plain": [
       "<Figure size 576x396 with 1 Axes>"
      ]
     },
     "metadata": {},
     "output_type": "display_data"
    }
   ],
   "source": [
    "#urban\n",
    "plt.scatter(urban[\"Number of Rides\"], urban[\"Average Fare\"], color = \"lightcoral\", edgecolors=\"black\", s = urban[\"Number of Drivers\"]*10, label = \"Urban\", alpha = 0.5, linewidth = 1)\n",
    "\n",
    "#Suburban\n",
    "plt.scatter(suburban[\"Number of Rides\"], suburban[\"Average Fare\"], color = \"lightskyblue\", edgecolors =\"black\", s = suburban[\"Number of Drivers\"]*10, label = \"Suburban\", alpha = 0.5, linewidth = 1)\n",
    "\n",
    "#Rural\n",
    "plt.scatter(rural[\"Number of Rides\"], rural[\"Average Fare\"], color = \"gold\", edgecolors = \"black\", s = rural[\"Number of Drivers\"]*10, label = \"Rural\", alpha = 0.5, linewidth = 1)\n",
    "\n",
    "#Add labels\n",
    "plt.title(\"Pyber Ride Sharing Data\")\n",
    "plt.xlabel(\"Number of Rides (Per City)\")\n",
    "plt.ylabel(\"Average Fares ($)\")\n",
    "\n",
    "#Add range and color scheme\n",
    "plt.grid(color='white')\n",
    "plt.ylim(15, 55)\n",
    "plt.style.use('seaborn')\n",
    "\n",
    "#Add a note to the side\n",
    "plt.text(70, 40,\"Note: \\nCircle size correlates with driver count per city.\")\n",
    "\n",
    "#Add the legend.\n",
    "plt.legend(title = \"City Type\", loc= \"upper right\")\n",
    "\n",
    "#Show plot.\n",
    "plt.show()"
   ]
  },
  {
   "cell_type": "markdown",
   "metadata": {},
   "source": [
    "## Part Two"
   ]
  },
  {
   "cell_type": "code",
   "execution_count": 26,
   "metadata": {},
   "outputs": [
    {
     "data": {
      "text/html": [
       "<div>\n",
       "<style scoped>\n",
       "    .dataframe tbody tr th:only-of-type {\n",
       "        vertical-align: middle;\n",
       "    }\n",
       "\n",
       "    .dataframe tbody tr th {\n",
       "        vertical-align: top;\n",
       "    }\n",
       "\n",
       "    .dataframe thead th {\n",
       "        text-align: right;\n",
       "    }\n",
       "</style>\n",
       "<table border=\"1\" class=\"dataframe\">\n",
       "  <thead>\n",
       "    <tr style=\"text-align: right;\">\n",
       "      <th></th>\n",
       "      <th>city</th>\n",
       "      <th>driver_count</th>\n",
       "      <th>type</th>\n",
       "      <th>date</th>\n",
       "      <th>fare</th>\n",
       "      <th>ride_id</th>\n",
       "    </tr>\n",
       "  </thead>\n",
       "  <tbody>\n",
       "    <tr>\n",
       "      <th>0</th>\n",
       "      <td>Kelseyland</td>\n",
       "      <td>63</td>\n",
       "      <td>Urban</td>\n",
       "      <td>2016-08-19 04:27:52</td>\n",
       "      <td>5.51</td>\n",
       "      <td>6246006544795</td>\n",
       "    </tr>\n",
       "    <tr>\n",
       "      <th>1</th>\n",
       "      <td>Kelseyland</td>\n",
       "      <td>63</td>\n",
       "      <td>Urban</td>\n",
       "      <td>2016-04-17 06:59:50</td>\n",
       "      <td>5.54</td>\n",
       "      <td>7466473222333</td>\n",
       "    </tr>\n",
       "    <tr>\n",
       "      <th>2</th>\n",
       "      <td>Kelseyland</td>\n",
       "      <td>63</td>\n",
       "      <td>Urban</td>\n",
       "      <td>2016-05-04 15:06:07</td>\n",
       "      <td>30.54</td>\n",
       "      <td>2140501382736</td>\n",
       "    </tr>\n",
       "    <tr>\n",
       "      <th>3</th>\n",
       "      <td>Kelseyland</td>\n",
       "      <td>63</td>\n",
       "      <td>Urban</td>\n",
       "      <td>2016-01-25 20:44:56</td>\n",
       "      <td>12.08</td>\n",
       "      <td>1896987891309</td>\n",
       "    </tr>\n",
       "    <tr>\n",
       "      <th>4</th>\n",
       "      <td>Kelseyland</td>\n",
       "      <td>63</td>\n",
       "      <td>Urban</td>\n",
       "      <td>2016-08-09 18:19:47</td>\n",
       "      <td>17.91</td>\n",
       "      <td>8784212854829</td>\n",
       "    </tr>\n",
       "    <tr>\n",
       "      <th>1625</th>\n",
       "      <td>Carrollbury</td>\n",
       "      <td>4</td>\n",
       "      <td>Suburban</td>\n",
       "      <td>2016-05-09 03:12:10</td>\n",
       "      <td>25.00</td>\n",
       "      <td>485795568537</td>\n",
       "    </tr>\n",
       "    <tr>\n",
       "      <th>1626</th>\n",
       "      <td>Carrollbury</td>\n",
       "      <td>4</td>\n",
       "      <td>Suburban</td>\n",
       "      <td>2016-06-09 05:04:24</td>\n",
       "      <td>49.47</td>\n",
       "      <td>617204620844</td>\n",
       "    </tr>\n",
       "    <tr>\n",
       "      <th>1627</th>\n",
       "      <td>Carrollbury</td>\n",
       "      <td>4</td>\n",
       "      <td>Suburban</td>\n",
       "      <td>2016-05-20 06:12:36</td>\n",
       "      <td>35.33</td>\n",
       "      <td>73368831241</td>\n",
       "    </tr>\n",
       "    <tr>\n",
       "      <th>1628</th>\n",
       "      <td>Carrollbury</td>\n",
       "      <td>4</td>\n",
       "      <td>Suburban</td>\n",
       "      <td>2016-03-21 17:31:26</td>\n",
       "      <td>20.26</td>\n",
       "      <td>7948046018548</td>\n",
       "    </tr>\n",
       "    <tr>\n",
       "      <th>1629</th>\n",
       "      <td>Carrollbury</td>\n",
       "      <td>4</td>\n",
       "      <td>Suburban</td>\n",
       "      <td>2016-08-20 11:20:51</td>\n",
       "      <td>46.67</td>\n",
       "      <td>4786094151694</td>\n",
       "    </tr>\n",
       "    <tr>\n",
       "      <th>2282</th>\n",
       "      <td>South Elizabethmouth</td>\n",
       "      <td>3</td>\n",
       "      <td>Rural</td>\n",
       "      <td>2016-04-03 11:13:07</td>\n",
       "      <td>22.79</td>\n",
       "      <td>8193837300497</td>\n",
       "    </tr>\n",
       "    <tr>\n",
       "      <th>2283</th>\n",
       "      <td>South Elizabethmouth</td>\n",
       "      <td>3</td>\n",
       "      <td>Rural</td>\n",
       "      <td>2016-03-11 12:27:01</td>\n",
       "      <td>26.72</td>\n",
       "      <td>4943246873754</td>\n",
       "    </tr>\n",
       "    <tr>\n",
       "      <th>2284</th>\n",
       "      <td>South Elizabethmouth</td>\n",
       "      <td>3</td>\n",
       "      <td>Rural</td>\n",
       "      <td>2016-11-23 07:47:18</td>\n",
       "      <td>46.39</td>\n",
       "      <td>1939838068038</td>\n",
       "    </tr>\n",
       "    <tr>\n",
       "      <th>2285</th>\n",
       "      <td>South Elizabethmouth</td>\n",
       "      <td>3</td>\n",
       "      <td>Rural</td>\n",
       "      <td>2016-07-19 09:35:59</td>\n",
       "      <td>31.09</td>\n",
       "      <td>2959749591417</td>\n",
       "    </tr>\n",
       "    <tr>\n",
       "      <th>2286</th>\n",
       "      <td>South Elizabethmouth</td>\n",
       "      <td>3</td>\n",
       "      <td>Rural</td>\n",
       "      <td>2016-04-21 10:20:09</td>\n",
       "      <td>16.50</td>\n",
       "      <td>5702608059064</td>\n",
       "    </tr>\n",
       "  </tbody>\n",
       "</table>\n",
       "</div>"
      ],
      "text/plain": [
       "                      city  driver_count      type                 date  \\\n",
       "0               Kelseyland            63     Urban  2016-08-19 04:27:52   \n",
       "1               Kelseyland            63     Urban  2016-04-17 06:59:50   \n",
       "2               Kelseyland            63     Urban  2016-05-04 15:06:07   \n",
       "3               Kelseyland            63     Urban  2016-01-25 20:44:56   \n",
       "4               Kelseyland            63     Urban  2016-08-09 18:19:47   \n",
       "1625           Carrollbury             4  Suburban  2016-05-09 03:12:10   \n",
       "1626           Carrollbury             4  Suburban  2016-06-09 05:04:24   \n",
       "1627           Carrollbury             4  Suburban  2016-05-20 06:12:36   \n",
       "1628           Carrollbury             4  Suburban  2016-03-21 17:31:26   \n",
       "1629           Carrollbury             4  Suburban  2016-08-20 11:20:51   \n",
       "2282  South Elizabethmouth             3     Rural  2016-04-03 11:13:07   \n",
       "2283  South Elizabethmouth             3     Rural  2016-03-11 12:27:01   \n",
       "2284  South Elizabethmouth             3     Rural  2016-11-23 07:47:18   \n",
       "2285  South Elizabethmouth             3     Rural  2016-07-19 09:35:59   \n",
       "2286  South Elizabethmouth             3     Rural  2016-04-21 10:20:09   \n",
       "\n",
       "       fare        ride_id  \n",
       "0      5.51  6246006544795  \n",
       "1      5.54  7466473222333  \n",
       "2     30.54  2140501382736  \n",
       "3     12.08  1896987891309  \n",
       "4     17.91  8784212854829  \n",
       "1625  25.00   485795568537  \n",
       "1626  49.47   617204620844  \n",
       "1627  35.33    73368831241  \n",
       "1628  20.26  7948046018548  \n",
       "1629  46.67  4786094151694  \n",
       "2282  22.79  8193837300497  \n",
       "2283  26.72  4943246873754  \n",
       "2284  46.39  1939838068038  \n",
       "2285  31.09  2959749591417  \n",
       "2286  16.50  5702608059064  "
      ]
     },
     "execution_count": 26,
     "metadata": {},
     "output_type": "execute_result"
    }
   ],
   "source": [
    "# group by type\n",
    "by_type = combined_pd.groupby('type')\n",
    "by_type.head()"
   ]
  },
  {
   "cell_type": "markdown",
   "metadata": {},
   "source": [
    "## % of Total Fares by City Type"
   ]
  },
  {
   "cell_type": "code",
   "execution_count": 74,
   "metadata": {},
   "outputs": [
    {
     "data": {
      "text/plain": [
       "type\n",
       "Rural        6.579786\n",
       "Suburban    31.445750\n",
       "Urban       61.974463\n",
       "Name: fare, dtype: float64"
      ]
     },
     "execution_count": 74,
     "metadata": {},
     "output_type": "execute_result"
    }
   ],
   "source": [
    "# create table/get data\n",
    "total_fares = combined_pd['fare'].sum()\n",
    "percent_fares = (by_type['fare'].sum())/total_fares\n",
    "percent_fares*100"
   ]
  },
  {
   "cell_type": "code",
   "execution_count": 157,
   "metadata": {},
   "outputs": [
    {
     "data": {
      "image/png": "[encoded data removed]",
      "text/plain": [
       "<Figure size 576x396 with 1 Axes>"
      ]
     },
     "metadata": {},
     "output_type": "display_data"
    }
   ],
   "source": [
    "# create labels, designate colors\n",
    "community = ['Rural', 'Suburban', 'Urban']\n",
    "percent_community = [6.579786, 31.445750, 61.974463]\n",
    "colors = ['gold', 'lightskyblue', 'lightcoral']\n",
    "explode = [.5, 0, 0]\n",
    "\n",
    "#chart effects\n",
    "plt.pie(percent_community, explode=explode, labels=community, colors=colors, autopct=\"%1.1f%%\", shadow=True, startangle=150)\n",
    "plt.axis(\"equal\")\n",
    "\n",
    "# Set a Title\n",
    "plt.title(\"% of Total Rides by City Type\")\n",
    "# Prints our pie chart to the screen\n",
    "plt.show()"
   ]
  },
  {
   "cell_type": "markdown",
   "metadata": {},
   "source": [
    "## % of Total Rides by City Type"
   ]
  },
  {
   "cell_type": "code",
   "execution_count": 71,
   "metadata": {},
   "outputs": [
    {
     "data": {
      "text/plain": [
       "type\n",
       "Rural        5.193187\n",
       "Suburban    27.295388\n",
       "Urban       67.511425\n",
       "Name: ride_id, dtype: float64"
      ]
     },
     "execution_count": 71,
     "metadata": {},
     "output_type": "execute_result"
    }
   ],
   "source": [
    "# create table/get data\n",
    "total_rides = combined_pd['ride_id'].count()\n",
    "percent_rides = (by_type['ride_id'].count())/total_rides\n",
    "percent_rides*100"
   ]
  },
  {
   "cell_type": "code",
   "execution_count": 73,
   "metadata": {},
   "outputs": [
    {
     "data": {
      "image/png": "[encoded data removed]",
      "text/plain": [
       "<Figure size 432x288 with 1 Axes>"
      ]
     },
     "metadata": {},
     "output_type": "display_data"
    }
   ],
   "source": [
    "# create labels, designate colors\n",
    "community = ['Rural', 'Suburban', 'Urban']\n",
    "percent_community = [5.193187, 27.295388, 67.511425]\n",
    "colors = ['gold', 'lightskyblue', 'lightcoral']\n",
    "explode = [0, 0, 0.2]\n",
    "\n",
    "#chart effects\n",
    "plt.pie(percent_community, explode=explode, labels=community, colors=colors, autopct=\"%1.1f%%\", shadow=True, startangle=150)\n",
    "plt.axis(\"equal\")\n",
    "# Set a Title\n",
    "plt.title(\"% of Total Rides by City Type\")\n",
    "# Prints our pie chart to the screen\n",
    "plt.show()"
   ]
  },
  {
   "cell_type": "markdown",
   "metadata": {},
   "source": [
    "## % of Total Drivers by City Type"
   ]
  },
  {
   "cell_type": "code",
   "execution_count": 69,
   "metadata": {},
   "outputs": [
    {
     "data": {
      "text/plain": [
       "type\n",
       "Rural        0.969876\n",
       "Suburban    12.980602\n",
       "Urban       86.049521\n",
       "Name: driver_count, dtype: float64"
      ]
     },
     "execution_count": 69,
     "metadata": {},
     "output_type": "execute_result"
    }
   ],
   "source": [
    "# create table/get data\n",
    "drivers_by_type = by_type['driver_count'].sum()\n",
    "total_drivers = drivers_by_type.sum()\n",
    "percent_drivers = drivers_by_type/total_drivers\n",
    "percent_drivers*100"
   ]
  },
  {
   "cell_type": "code",
   "execution_count": 70,
   "metadata": {},
   "outputs": [
    {
     "data": {
      "image/png": "[encoded data removed]",
      "text/plain": [
       "<Figure size 432x288 with 1 Axes>"
      ]
     },
     "metadata": {},
     "output_type": "display_data"
    }
   ],
   "source": [
    "# create labels, designate colors\n",
    "community = ['Rural', 'Suburban', 'Urban']\n",
    "percent_community = [.969876, 12.980602, 86.049521]\n",
    "colors = ['gold', 'lightskyblue', 'lightcoral']\n",
    "explode = [0, 0.2, 0]\n",
    "\n",
    "#chart effects\n",
    "plt.pie(percent_community, explode=explode, labels=community, colors=colors, autopct=\"%1.1f%%\", shadow=True, startangle=150)\n",
    "plt.axis(\"equal\")\n",
    "# Set a Title\n",
    "plt.title(\"% of Total Drivers by City Type\")\n",
    "# Prints our pie chart to the screen\n",
    "plt.show()"
   ]
  }
 ],
 "metadata": {
  "kernelspec": {
   "display_name": "Python 3",
   "language": "python",
   "name": "python3"
  },
  "language_info": {
   "codemirror_mode": {
    "name": "ipython",
    "version": 3
   },
   "file_extension": ".py",
   "mimetype": "text/x-python",
   "name": "python",
   "nbconvert_exporter": "python",
   "pygments_lexer": "ipython3",
   "version": "3.6.5"
  }
 },
 "nbformat": 4,
 "nbformat_minor": 2
}
